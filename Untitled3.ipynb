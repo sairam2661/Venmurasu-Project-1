{
  "nbformat": 4,
  "nbformat_minor": 0,
  "metadata": {
    "colab": {
      "name": "Untitled3.ipynb",
      "provenance": [],
      "include_colab_link": true
    },
    "kernelspec": {
      "name": "python3",
      "display_name": "Python 3"
    },
    "language_info": {
      "name": "python"
    }
  },
  "cells": [
    {
      "cell_type": "markdown",
      "metadata": {
        "id": "view-in-github",
        "colab_type": "text"
      },
      "source": [
        "<a href=\"https://colab.research.google.com/github/sairam2661/Venmurasu-Project-1/blob/Sairam/Untitled3.ipynb\" target=\"_parent\"><img src=\"https://colab.research.google.com/assets/colab-badge.svg\" alt=\"Open In Colab\"/></a>"
      ]
    },
    {
      "cell_type": "code",
      "metadata": {
        "colab": {
          "base_uri": "https://localhost:8080/"
        },
        "id": "gfLl-rpgvS5V",
        "outputId": "e0e9bd61-a50b-4851-b27e-23575b9649b2"
      },
      "source": [
        "pip install googletrans==3.1.0a0"
      ],
      "execution_count": null,
      "outputs": [
        {
          "output_type": "stream",
          "text": [
            "Collecting googletrans==3.1.0a0\n",
            "  Downloading googletrans-3.1.0a0.tar.gz (19 kB)\n",
            "Collecting httpx==0.13.3\n",
            "  Downloading httpx-0.13.3-py3-none-any.whl (55 kB)\n",
            "\u001b[K     |████████████████████████████████| 55 kB 3.4 MB/s \n",
            "\u001b[?25hRequirement already satisfied: idna==2.* in /usr/local/lib/python3.7/dist-packages (from httpx==0.13.3->googletrans==3.1.0a0) (2.10)\n",
            "Requirement already satisfied: certifi in /usr/local/lib/python3.7/dist-packages (from httpx==0.13.3->googletrans==3.1.0a0) (2021.5.30)\n",
            "Collecting hstspreload\n",
            "  Downloading hstspreload-2021.8.1-py3-none-any.whl (1.2 MB)\n",
            "\u001b[K     |████████████████████████████████| 1.2 MB 38.8 MB/s \n",
            "\u001b[?25hCollecting sniffio\n",
            "  Downloading sniffio-1.2.0-py3-none-any.whl (10 kB)\n",
            "Collecting httpcore==0.9.*\n",
            "  Downloading httpcore-0.9.1-py3-none-any.whl (42 kB)\n",
            "\u001b[K     |████████████████████████████████| 42 kB 1.3 MB/s \n",
            "\u001b[?25hCollecting rfc3986<2,>=1.3\n",
            "  Downloading rfc3986-1.5.0-py2.py3-none-any.whl (31 kB)\n",
            "Requirement already satisfied: chardet==3.* in /usr/local/lib/python3.7/dist-packages (from httpx==0.13.3->googletrans==3.1.0a0) (3.0.4)\n",
            "Collecting h2==3.*\n",
            "  Downloading h2-3.2.0-py2.py3-none-any.whl (65 kB)\n",
            "\u001b[K     |████████████████████████████████| 65 kB 3.3 MB/s \n",
            "\u001b[?25hCollecting h11<0.10,>=0.8\n",
            "  Downloading h11-0.9.0-py2.py3-none-any.whl (53 kB)\n",
            "\u001b[K     |████████████████████████████████| 53 kB 2.1 MB/s \n",
            "\u001b[?25hCollecting hyperframe<6,>=5.2.0\n",
            "  Downloading hyperframe-5.2.0-py2.py3-none-any.whl (12 kB)\n",
            "Collecting hpack<4,>=3.0\n",
            "  Downloading hpack-3.0.0-py2.py3-none-any.whl (38 kB)\n",
            "Building wheels for collected packages: googletrans\n",
            "  Building wheel for googletrans (setup.py) ... \u001b[?25l\u001b[?25hdone\n",
            "  Created wheel for googletrans: filename=googletrans-3.1.0a0-py3-none-any.whl size=16367 sha256=2dcf07f3d67cb4e1b119724c9cc56ef5433935cae71c615dfd415f78b228403d\n",
            "  Stored in directory: /root/.cache/pip/wheels/0c/be/fe/93a6a40ffe386e16089e44dad9018ebab9dc4cb9eb7eab65ae\n",
            "Successfully built googletrans\n",
            "Installing collected packages: hyperframe, hpack, sniffio, h2, h11, rfc3986, httpcore, hstspreload, httpx, googletrans\n",
            "Successfully installed googletrans-3.1.0a0 h11-0.9.0 h2-3.2.0 hpack-3.0.0 hstspreload-2021.8.1 httpcore-0.9.1 httpx-0.13.3 hyperframe-5.2.0 rfc3986-1.5.0 sniffio-1.2.0\n"
          ],
          "name": "stdout"
        }
      ]
    },
    {
      "cell_type": "code",
      "metadata": {
        "id": "BAs5PvK7vgPO"
      },
      "source": [
        "from googletrans import Translator"
      ],
      "execution_count": null,
      "outputs": []
    },
    {
      "cell_type": "code",
      "metadata": {
        "id": "6FRdnTzLvj3f"
      },
      "source": [
        "translator = Translator()"
      ],
      "execution_count": null,
      "outputs": []
    },
    {
      "cell_type": "code",
      "metadata": {
        "colab": {
          "base_uri": "https://localhost:8080/"
        },
        "id": "G_9HbqUAvs5P",
        "outputId": "d21c239c-f851-4462-b501-629f52937ebb"
      },
      "source": [
        "file1 = open(\"Mahabharatha-Adiparva-Section31-ta final.txt\",'r',encoding='utf-8')\n",
        "file1_gt = open(\"Section31_gt.txt\",'a',encoding='utf-8')\n",
        "while True:\n",
        "    line = file1.readline()\n",
        "    if not line:\n",
        "        break\n",
        "    print(line)\n",
        "    line_gt = translator.translate(line,src='ta')\n",
        "    print(line_gt.text)\n",
        "    file1_gt.write(line_gt.text+'\\n')\n",
        "file1.close()\n",
        "file1_gt.close()"
      ],
      "execution_count": null,
      "outputs": [
        {
          "output_type": "stream",
          "text": [
            "சௌனகர், \"ஓ சூதப் புதல்வா!,”இந்திரன் செய்த தவறு என்ன? அவன் கவனக்குறைவாகச் செய்த செயல் என்ன?\n",
            "\n",
            "Chaunagar said, \"O Sutap Puthalva!\" What was the mistake of Indra? What was his negligent act?\n",
            "எப்படி வாலகில்யர்களின் தவப்பயனின் விளைவால் கருடன் பிறந்தான்?\n",
            "\n",
            "How was Garuda born as a result of the Valagilya's asceticism?\n",
            "கசியபர் எப்படிப் பறவைகளின் அரசனை மகனாக அடைந்தார்?\n",
            "\n",
            "How did Kasyapa become the son of the king of birds?\n",
            "எப்படி எல்லா உயிரினங்களாலும் வெல்ல முடியாதவனாகவும், கொல்ல முடியாதவனாகவும் அவன் இருக்கிறான்?\n",
            "\n",
            "How is he invincible and invincible by all creatures?\n",
            "எப்படி அந்த விண்ணோடியால் விரும்பிய இடத்திற்கெல்லாம் செல்லவும், விரும்பிய சக்தியை அடையவும் முடிகிறது?\n",
            "\n",
            "How is that astronaut able to go anywhere and reach the desired power?\n",
            "இவ்விவரங்கள் புராணங்களில் உள்ளதெனில் நான் அதைக் கேட்க விரும்புகிறேன்\" என்று கேட்டார்.\n",
            "\n",
            "I want to hear if this information is in the myths. \"\n",
            "அதற்குச் சௌதி, \"நீர் கேட்பவையெல்லாம் உண்மையில் புராணங்களில் உள்ளவைதான்.\n",
            "\n",
            "The Saudis replied, \"Everything you ask for is really in the myths.\n",
            "ஓ இருபிறப்பாளரே, நான் அனைத்தையும் விரிவாகச் சொல்கிறேன் கேட்பீராக.\n",
            "\n",
            "O twins, hear me tell you all in detail.\n",
            "முன்பொரு காலத்தில், உயிரினங்களின் தலைவரான கசியபர், புத்திரப்பேறுக்காக வேள்வி நடத்தினார், முனிவர்களும், தேவர்களும், கந்தர்வர்களும் அவருக்கு உதவி செய்தனர்.\n",
            "\n",
            "In the past, Kasiyapar, the chief of the creatures, prayed for childbirth and was helped by sages, gods and gandars.\n",
            "கசியபர், இந்திரனையும், அவனுக்கு உதவியாகத் துறவிகளான வாலகில்யர்களையும், மற்ற தேவர்களையும் வேள்விக்குத் தேவையான எரிபொருளைக் கொணர்வதற்கு நியமித்திருந்தார்.\n",
            "\n",
            "Kasiyapar had commissioned Indra and his assistants, the Valakilyas and other deities, to bring fuel for the fire.\n",
            "தேவனான இந்திரன், மலைக்கு நிகரான பெரும் சுமையைத் தன் பலத்திற்கேற்றபடி எந்தவொரு சிரமுமின்றிக் கொண்டு வந்தான்.\n",
            "\n",
            "The god Indra, without any difficulty, carried the great burden of the mountain to his strength.\n",
            "வரும் வழியில், கட்டைவிரல் அளவே உள்ள வாலகில்ய முனிவர்கள் அனைவரும் சேர்ந்து ஒரு பலாச இலையின் குச்சியைச் சுமந்து கொண்டு வருவதைக் கண்டான்.\n",
            "\n",
            "On the way, he saw all the thumb-sized Valakilya sages carrying a balasa leaf stick together.\n",
            "அந்த முனிவர்கள் உணவில்லாமல் மிகவும் உடல்மெலிந்து, அவர்கள் உடலுக்குள்ளே தங்கள் உடல் மறைந்திருந்தனர்.\n",
            "\n",
            "Those sages were so thin without food that they hid their body inside.\n",
            "பாதையிலே மாடுகளின் குளம்புகள் ஏற்படுத்திய பள்ளத்தில் தேங்கிய நீரில் மூழ்கி மிகவும் சிரமப்படும் அளவுக்குப் பலவீனமாக அவர்கள் இருந்தனர்.\n",
            "\n",
            "They were too weak to drown in the stagnant water caused by the hoofs of the cows on the path.\n",
            "புரந்தரன், தனது பலத்தில் கர்வங்கொண்டு, அவர்கள் தலைக்குமேல் தாண்டிச் சென்றது மட்டுமல்லாமல், அவர்களைத் திரும்பிப்பார்த்து, கேலியாகச் சிரித்தும் அவமதித்தான்.\n",
            "\n",
            "Purandaran, arrogant in his strength, not only overcame them over his head, but looked at them and insulted them with a mocking smile.\n",
            "இப்படி அவமதிக்கப்பட்ட முனிவர்கள் மிகுந்த கோபமும், துன்பமும் கொண்டு ஒரு பெரிய வேள்விக்கு ஏற்பாடு செய்து, இந்திரனைப் பீதியடையச் செய்தனர்.\n",
            "\n",
            "Such insulted sages, with great anger and suffering, arranged for a great uprising and frightened Indra.\n",
            "ஓ சௌனகரே! கேளும், தங்கள் விருப்பத்தை நிறைவேற்ற, விரதங்களை மேற்கொள்பவர்களும், ஞானமுள்ளவர்களும், சிறந்தவர்களுமான அந்தத் துறவிகள் வேள்வித்தீயில், சுத்தமான நெய்யை விட்டு, சத்தமாக,“அனைத்து இடத்திற்கும் தன் விருப்பப்படி செல்லக்கூடியவனும், விரும்பிய அளவு சக்தியை அடையக்கூடியவனும், (இப்போது) இருக்கும் தேவர்களின் தலைவனுக்கு அச்சத்தைத் தரக்கூடியவனாக இன்னொரு இந்திரன் உண்டாகட்டும்.\n",
            "\n",
            "O Sonakare! The saints, who are fasting, wise, and excellent, who ask and fulfill their wishes, leave the pure ghee on the fire and shout, “Let there be another Indra who can go anywhere at his will, reach the desired level of power, and frighten the leader of the existing gods (now).\n",
            "எங்கள் தவங்களின் பயனாக மனம் போல் வேகங்கொண்டவனாகவும், பயங்கரமானவனாகவும் ஒருவன் தோன்றட்டும்” என்று மந்திரங்களைச் சொன்னார்கள்.\n",
            "\n",
            "May one appear as fast and terrible as the mind for the benefit of our tapas. ”\n",
            "இதைக் கேள்விப்பட்டவனும், ஆயிரம் வேள்விகளைச் செய்தவனுமான தேவர்களின் தலைவன், பெரும் அச்சங்கொண்டு, நோன்புகள் நோற்கும் கசியபரிடம் தஞ்சம் புகுந்தான்.\n",
            "\n",
            "Hearing this, the chief of the gods, who had made a thousand vows, took refuge in the leaky leper, who was in great fear and fasting.\n",
            "பிரஜாபதியான கசியபர் இந்திரனிடம் இருந்து அனைத்தையும் கேட்டுக்கொண்டு, வாலகில்யர்களிடம் சென்று அவர்களது வேள்வி வெற்றிகரமாக முடிந்ததா என்று கேட்டார்.\n",
            "\n",
            "Prajapati Kasiyapar asked everything from Indra and went to the Valkyries and asked if their velvi had been successfully completed.\n",
            "அந்த உண்மை பேசும் முனிவர்கள், \"நீங்கள் சொல்வது போலவே நடக்கட்டும்\" என்றனர்.\n",
            "\n",
            "Those truth-telling sages said, \"Let it happen as you say.\"\n",
            "பிரஜாபதியான கசியபர் அவர்களை அமைதிப்படுத்தி, \"பிரம்மனின் வார்த்தைகளால், இவன் (இந்திரன்) மூன்று உலகங்களிலும் தேவர்களுக்குத் தலைவனாக நியமிக்கப்பட்டுள்ளான்.\n",
            "\n",
            "Prajapati Kasyapa calmed them down and said, “By the words of Brahman, Ivan (Indra) has been appointed as the head of the gods in all the three worlds.\n",
            "துறவிகளே, நீங்களும் மற்றுமொரு இந்திரனை உற்பத்தி செய்யப் பாடுபடுகிறீர்கள்!\n",
            "\n",
            "Monks, you too are striving to produce another sense!\n",
            "சிறந்தவர்களே, பிரம்மனின் வார்த்தைகளைப் பொய்யாக்காமல் இருக்கச் செய்வதே உங்களுக்குத் தகும்.\n",
            "\n",
            "Best of all, you deserve to keep the words of Brahman from lying.\n",
            "உங்களுடைய இந்த முயற்சியும் பலனில்லாமல் போகவேண்டாம்.\n",
            "\n",
            "Do not let this effort of yours go in vain.\n",
            "பெரும்பலம் கொண்டவனாக, சிறகுள்ள உயிரினங்களுக்கு இந்திரனாக (தலைவனாக) ஒருவன் தோன்றட்டும்.\n",
            "\n",
            "Let one appear as the Indra (leader) of the mighty, captive creatures.\n",
            "உங்கள் முன் பணிந்து நிற்கும் இந்த இந்திரன் மீது கருணை கொள்ளுங்கள்\" என்று சொன்னார்.\n",
            "\n",
            "Have mercy on this Indra who is bowing before you. \"\n",
            "கசியபரால் இப்படி வேண்டிக்கொள்ளப்பட்ட வாலகில்யர்கள், முனிவர்களில் முதல்வரான பிரஜாபதி கசியபருக்குத் தங்கள் மரியாதைகளைச் செலுத்திவிட்டுப் பேசத் தொடங்கினர்.\n",
            "\n",
            "At the request of the leaker, the Valkyries began to pay their respects to Prajapati, the chief of the sages, and began to speak.\n",
            "அந்த வாலகில்யர்கள், \"ஓ பிரஜாபதி! எங்கள் எல்லோராலும் நடத்தப்படும் இந்த வேள்வியானது ஓர் இந்திரனுக்காக நடைபெறுகிறது!\n",
            "\n",
            "The Valkyries said, “O Prajapati!\n",
            "உண்மையில் அவன் உமக்கு மகனாகப் பிறக்கவே இந்த வேள்வி நடைபெறுகிறது.\n",
            "\n",
            "In fact, he is born as your son.\n",
            "இதன் பலனை உம் கையிலேயே விடுகிறோம்.\n",
            "\n",
            "We leave the benefit to you.\n",
            "இந்த விஷயத்தில் எது நன்மையாகவும், சரியாகவும் இருக்குமோ அதைச் செய்யும்\" என்று சொன்னார்கள்.\n",
            "\n",
            "We will do whatever is good and right in this matter. \"\n",
            "சௌதி தொடர்ந்தார், \"அப்பொழுது, மனதிற்கினியவளும், நற்பேறு பெற்றவளும், நோன்பு நோற்பவளும், தக்ஷனின் நன்மகளுமான வினதை, பிள்ளைப்பேற்றின் மீதுள்ள ஆசையால், தனது நோன்புகளை முடித்துக் குளித்துத் தன்னைச் சுத்தப்படுத்திக் கொண்டு, உறவுக்கான சரியான கனிதரும் காலம் வந்தவுடன் தனது நாயகனை நெருங்கினாள்.\n",
            "\n",
            "The Saudis continued, \"Then, heartbroken, fortunate, fasting, Dakshin's good daughter, with the desire for childbirth, she finished her fasts, bathed and purified herself, and approached her hero when the time was ripe for the perfect matrimony.\n",
            "கசியபர் அவளிடம், \"மதிப்புக்குரியவளே, நான் நடத்திய வேள்வி இப்போது கனி தந்திருக்கிறது.\n",
            "\n",
            "The leaker said to her, “Dear one, the auction I conducted has now borne fruit.\n",
            "நீ என்ன ஆசைப்பட்டாயோ அஃது உனக்குக் கிடைக்கும்.\n",
            "\n",
            "You get what you pay for.\n",
            "மூன்று உலகங்களுக்கும் தலைவர்களான வீர மகன்கள் இருவர் உனக்குப் பிறப்பார்கள்.\n",
            "\n",
            "Two heroic sons who are leaders of the three worlds will be born to you.\n",
            "எனது வேள்வியின் தூய்மையான நோக்கத்தாலும், வாலகில்யர்களின் தவப்பயனாலும், அந்த மகன்கள் மிகுந்த நற்பேறு பெற்றவர்களாகவும், மூவுலகங்களாலும் வழிபடத் தகுந்தவர்களாகவும் இருப்பார்கள்\" என்று சொன்னார்.\n",
            "\n",
            "By the pure purpose of my womb, and by the asceticism of the Valkyries, those sons will be highly esteemed and worthy of worship by all three worlds. \"\n",
            "புகழ்பெற்றவரான கசியபர் மீண்டும் அவளிடம், \"இந்தப் புனிதமான விதைகளை, மிகுந்த கவனத்துடன் சுமந்து வா.\n",
            "\n",
            "The famous leaker again said to her, “Carry these sacred seeds, with great care.\n",
            "இந்த இருவரும் எல்லாச் சிறகுள்ள உயிரினங்களுக்கும் தலைவர்கள் ஆவார்கள்.\n",
            "\n",
            "These two are the leaders of all winged creatures.\n",
            "நினைத்த மாத்திரத்தில் நினைத்த உருவை அடையும் இந்த வீரமிக்க விண்ணோடிகள் மூன்று உலகங்களாலும் மதிக்கப்படுவார்கள்\" என்று சொன்னார்.\n",
            "\n",
            "These valiant astronauts will be respected by all three worlds. \"\n",
            "நடைபெற்ற காரியங்களால் திருப்தியடைந்த பிரஜாபதி, ஆயிரம் வேள்வி செய்த இந்திரனிடம், \"பெரும் பலமும் வீரமும் மிக்க இரு சகோதரர்கள் உனக்கு உதவி செய்யக் கிடைப்பார்கள்.\n",
            "\n",
            "Satisfied with what had happened, Prajapati said to Indra, who had made a thousand vows, \"Two brothers of great strength and valor will be available to help you.\n",
            "அவர்களால் உனக்கு எந்த இன்னலும் ஏற்படாது.\n",
            "\n",
            "They will not cause you any trouble.\n",
            "உன் வருத்தம் தீரட்டும், நீயே எல்லோருக்கும் தலைவனாக இருப்பாய்.\n",
            "\n",
            "Let go of your grief and you will be the leader of all.\n",
            "இனி எப்போதும், பிரம்மனின் பெயரை உச்சரிப்பவர்களைச் சிறுமைப்படுத்தாதே.\n",
            "\n",
            "Never again, do not belittle those who pronounce the name of Brahman.\n",
            "கோபக்காரர்களை, இடியைப் போன்ற வார்த்தைகளை உச்சரிப்பவர்களை அவமதிக்காதே\" என்று அறிவுரை கூறினார்.\n",
            "\n",
            "Do not insult those who are angry and utter words like thunder. \"\n",
            "இதைக் கேட்ட இந்திரன் பயத்தை விட்டு, தேவலோகம் சென்றான்.\n",
            "\n",
            "Hearing this, Indra left his fear and went to heaven.\n",
            "வினதையும், தனது நோக்கம் நிறைவேறியதால், மிகவும் மகிழ்ந்தாள்.\n",
            "\n",
            "Vinaya, too, was very pleased that her purpose had been fulfilled.\n",
            "அவள் அருணன் மற்றும் கருடன் ஆகிய இரு மகன்களைப் பெற்றாள்.\n",
            "\n",
            "She had two sons, Arun and Garuda.\n",
            "குறை உடலுடன் பிறந்தவனான அருணன் சூரியனுக்குச் சாரதியாக நின்றான்.\n",
            "\n",
            "Born with a deformed body, Arun stood as a driver for the sun.\n",
            "கருடனுக்குப் பறவைகளின் தலைமை கொடுக்கப்பட்டது.\n",
            "\n",
            "Garuda was given the leadership of the birds.\n",
            "ஓ பிருகுவின் வழித்தோன்றலே!, கருடனின் பெரும் சாதனைகளைக் கவனமாகக் கேளும்\".\n",
            "O descendants of Brighu, listen carefully to Garuda's great achievements \".\n"
          ],
          "name": "stdout"
        }
      ]
    }
  ]
}